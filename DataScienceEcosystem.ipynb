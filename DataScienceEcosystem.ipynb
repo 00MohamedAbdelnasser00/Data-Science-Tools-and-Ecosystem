{
 "cells": [
  {
   "cell_type": "markdown",
   "id": "dbf1c02b",
   "metadata": {},
   "source": [
    "# Data Science Tools and Ecosystem"
   ]
  },
  {
   "cell_type": "markdown",
   "id": "58183268",
   "metadata": {},
   "source": [
    "In this notebook, Data Science Tools and Ecosystem are summarized."
   ]
  },
  {
   "cell_type": "markdown",
   "id": "44239dfc",
   "metadata": {},
   "source": [
    "Some of the commonly used libraries used by Data Scientists include:\n",
    "    \n",
    "    1. PYTHON\n",
    "    2. SQL\n",
    "    3. C++\n",
    "    4. JAVA\n",
    "    5. R "
   ]
  },
  {
   "cell_type": "markdown",
   "id": "7e01bd40",
   "metadata": {},
   "source": [
    "Some of the commonly used libraries used by Data Scientists include:\n",
    "    \n",
    "    1. Matplotlib\n",
    "    2. TENSORFLOW\n",
    "    3. SCIPY\n",
    "    4. PANDAS\n",
    "    5. NUMBY\n",
    "    6. PYTOUCH"
   ]
  },
  {
   "cell_type": "markdown",
   "id": "fddca266",
   "metadata": {},
   "source": [
    "|Data Science tools|\n",
    "|---|\n",
    "|SAS|\n",
    "|TENSORFLOW|\n",
    "|APACHE HADOOP|"
   ]
  },
  {
   "cell_type": "markdown",
   "id": "35679ceb",
   "metadata": {},
   "source": [
    "### Below are a few examples of evaluating arithmetic expressions in Python"
   ]
  },
  {
   "cell_type": "code",
   "execution_count": 4,
   "id": "5fb42526",
   "metadata": {},
   "outputs": [
    {
     "data": {
      "text/plain": [
       "17"
      ]
     },
     "execution_count": 4,
     "metadata": {},
     "output_type": "execute_result"
    }
   ],
   "source": [
    "#This a simple arithmetic expression to mutiply then add integers\n",
    "(3*4)+5"
   ]
  },
  {
   "cell_type": "code",
   "execution_count": 5,
   "id": "0f582da4",
   "metadata": {},
   "outputs": [
    {
     "data": {
      "text/plain": [
       "3.3333333333333335"
      ]
     },
     "execution_count": 5,
     "metadata": {},
     "output_type": "execute_result"
    }
   ],
   "source": [
    "#This will convert 200 minutes to hours by diving by 60\n",
    "200/60"
   ]
  },
  {
   "cell_type": "markdown",
   "id": "b34df642",
   "metadata": {},
   "source": [
    "__object__\n",
    "\n",
    " * List popular languages for Data Science\n",
    " * List puoler libraries for Data Science\n",
    " * List of well know data science tools\n",
    " * how to provied comments in cell"
   ]
  },
  {
   "cell_type": "markdown",
   "id": "956ecc9c",
   "metadata": {},
   "source": [
    "## Author\n",
    "mohamed abdelnasser mohamed"
   ]
  }
 ],
 "metadata": {
  "kernelspec": {
   "display_name": "Python 3 (ipykernel)",
   "language": "python",
   "name": "python3"
  },
  "language_info": {
   "codemirror_mode": {
    "name": "ipython",
    "version": 3
   },
   "file_extension": ".py",
   "mimetype": "text/x-python",
   "name": "python",
   "nbconvert_exporter": "python",
   "pygments_lexer": "ipython3",
   "version": "3.11.5"
  }
 },
 "nbformat": 4,
 "nbformat_minor": 5
}
